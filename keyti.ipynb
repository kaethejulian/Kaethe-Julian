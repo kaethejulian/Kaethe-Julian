{
  "nbformat": 4,
  "nbformat_minor": 0,
  "metadata": {
    "colab": {
      "name": "keyti.ipynb",
      "provenance": [],
      "authorship_tag": "ABX9TyMzBHmWVis1SyL68UndUst2",
      "include_colab_link": true
    },
    "kernelspec": {
      "name": "python3",
      "display_name": "Python 3"
    },
    "language_info": {
      "name": "python"
    }
  },
  "cells": [
    {
      "cell_type": "markdown",
      "metadata": {
        "id": "view-in-github",
        "colab_type": "text"
      },
      "source": [
        "<a href=\"https://colab.research.google.com/github/kaethejulian/Kaethe-Julian/blob/main/keyti.ipynb\" target=\"_parent\"><img src=\"https://colab.research.google.com/assets/colab-badge.svg\" alt=\"Open In Colab\"/></a>"
      ]
    },
    {
      "cell_type": "code",
      "metadata": {
        "colab": {
          "base_uri": "https://localhost:8080/"
        },
        "id": "QNWcGj4FWvI-",
        "outputId": "8289efa4-40bf-4fbe-c4db-3c35151011c7"
      },
      "source": [
        "b = \"Sally\"\n",
        "print(b)\n",
        "#This is a type of string"
      ],
      "execution_count": 2,
      "outputs": [
        {
          "output_type": "stream",
          "name": "stdout",
          "text": [
            "Sally\n"
          ]
        }
      ]
    },
    {
      "cell_type": "code",
      "metadata": {
        "colab": {
          "base_uri": "https://localhost:8080/"
        },
        "id": "wO0GWFeKX6Lo",
        "outputId": "b9773598-79aa-44ee-ff47-88ca94adf69f"
      },
      "source": [
        "a, b, c = 0, 1, 2 \n",
        "print(type(b))\n",
        "print(a)\n",
        "print(c)"
      ],
      "execution_count": 11,
      "outputs": [
        {
          "output_type": "stream",
          "name": "stdout",
          "text": [
            "<class 'int'>\n",
            "0\n",
            "2\n"
          ]
        }
      ]
    },
    {
      "cell_type": "code",
      "metadata": {
        "colab": {
          "base_uri": "https://localhost:8080/"
        },
        "id": "6Z8FDaIAZGCO",
        "outputId": "cf3e415d-4add-403d-a367-8268e6c0aeca"
      },
      "source": [
        "a = 4.50\n",
        "print(type(a))"
      ],
      "execution_count": 12,
      "outputs": [
        {
          "output_type": "stream",
          "name": "stdout",
          "text": [
            "<class 'float'>\n"
          ]
        }
      ]
    },
    {
      "cell_type": "code",
      "metadata": {
        "colab": {
          "base_uri": "https://localhost:8080/"
        },
        "id": "TvSo7moaYSiO",
        "outputId": "6d34c03b-0cf4-4f42-83e9-f965ee8d9a4c"
      },
      "source": [
        "a = float(4)\n",
        "print(a)"
      ],
      "execution_count": 8,
      "outputs": [
        {
          "output_type": "stream",
          "name": "stdout",
          "text": [
            "4.0\n"
          ]
        }
      ]
    },
    {
      "cell_type": "code",
      "metadata": {
        "colab": {
          "base_uri": "https://localhost:8080/"
        },
        "id": "qb70StD_YpNw",
        "outputId": "9c162be0-81b7-4662-c316-ae1c46f471a2"
      },
      "source": [
        "b = \"sally\"\n",
        "print(type(b))"
      ],
      "execution_count": 9,
      "outputs": [
        {
          "output_type": "stream",
          "name": "stdout",
          "text": [
            "<class 'str'>\n"
          ]
        }
      ]
    },
    {
      "cell_type": "markdown",
      "metadata": {
        "id": "SFWkqQfoXGCn"
      },
      "source": [
        "###Introduction to Phyton Programming"
      ]
    },
    {
      "cell_type": "code",
      "metadata": {
        "colab": {
          "base_uri": "https://localhost:8080/"
        },
        "id": "7bvF0hhsZOxn",
        "outputId": "b3ebe617-ed95-46dc-cef2-ad0888fbf686"
      },
      "source": [
        "a = 'sally'    #This is a program using type function\n",
        "print(a)"
      ],
      "execution_count": 16,
      "outputs": [
        {
          "output_type": "stream",
          "name": "stdout",
          "text": [
            "sally\n"
          ]
        }
      ]
    },
    {
      "cell_type": "code",
      "metadata": {
        "colab": {
          "base_uri": "https://localhost:8080/"
        },
        "id": "GGWie_jgZZd3",
        "outputId": "bc0598cd-195d-47b0-b92c-8c2ecaccd5e4"
      },
      "source": [
        "a = 4\n",
        "A = 'Sally'\n",
        "print(a)\n",
        "print(A)"
      ],
      "execution_count": 15,
      "outputs": [
        {
          "output_type": "stream",
          "name": "stdout",
          "text": [
            "4\n",
            "Sally\n"
          ]
        }
      ]
    },
    {
      "cell_type": "code",
      "metadata": {
        "colab": {
          "base_uri": "https://localhost:8080/"
        },
        "id": "4r8znRFiZndl",
        "outputId": "b2cbae87-7bb0-481e-c0af-9b85b988ab9f"
      },
      "source": [
        "x = y = z = \"four\"\n",
        "print(x)\n",
        "print(y)\n",
        "print(z)"
      ],
      "execution_count": 19,
      "outputs": [
        {
          "output_type": "stream",
          "name": "stdout",
          "text": [
            "four\n",
            "four\n",
            "four\n"
          ]
        }
      ]
    },
    {
      "cell_type": "code",
      "metadata": {
        "colab": {
          "base_uri": "https://localhost:8080/"
        },
        "id": "nOkv6GuBayWz",
        "outputId": "c7577b37-ca9f-499c-c7ed-ed9e9af24895"
      },
      "source": [
        "x = \"enjoying\"\n",
        "print('phyton programming is '+x)"
      ],
      "execution_count": 33,
      "outputs": [
        {
          "output_type": "stream",
          "name": "stdout",
          "text": [
            "phyton programming is enjoying\n"
          ]
        }
      ]
    },
    {
      "cell_type": "code",
      "metadata": {
        "colab": {
          "base_uri": "https://localhost:8080/"
        },
        "id": "Th_iAtnXb6KW",
        "outputId": "c3e6044f-09eb-4376-8498-deffe7590a23"
      },
      "source": [
        "x = 4\n",
        "y = 5\n",
        "print(x+y)\n",
        "print(x-y)"
      ],
      "execution_count": 34,
      "outputs": [
        {
          "output_type": "stream",
          "name": "stdout",
          "text": [
            "9\n",
            "-1\n"
          ]
        }
      ]
    },
    {
      "cell_type": "code",
      "metadata": {
        "colab": {
          "base_uri": "https://localhost:8080/"
        },
        "id": "QElXocCKctE8",
        "outputId": "5c52d96a-ed08-484b-e0a7-d65af651aff2"
      },
      "source": [
        "(x<y and x==x)"
      ],
      "execution_count": 40,
      "outputs": [
        {
          "output_type": "execute_result",
          "data": {
            "text/plain": [
              "True"
            ]
          },
          "metadata": {},
          "execution_count": 40
        }
      ]
    },
    {
      "cell_type": "code",
      "metadata": {
        "colab": {
          "base_uri": "https://localhost:8080/"
        },
        "id": "ZcfJkvGAcwJZ",
        "outputId": "75014573-2ae8-439a-ffc8-e7e79ab0dc85"
      },
      "source": [
        "not(x<y or x==x)  #this is an example of program using logical operator"
      ],
      "execution_count": 43,
      "outputs": [
        {
          "output_type": "execute_result",
          "data": {
            "text/plain": [
              "False"
            ]
          },
          "metadata": {},
          "execution_count": 43
        }
      ]
    },
    {
      "cell_type": "code",
      "metadata": {
        "colab": {
          "base_uri": "https://localhost:8080/"
        },
        "id": "atTuilIgcJFw",
        "outputId": "c63d42d8-8f02-4bc4-e8fc-b841f09a6e6b"
      },
      "source": [
        "not(x<y and x==x)"
      ],
      "execution_count": 39,
      "outputs": [
        {
          "output_type": "execute_result",
          "data": {
            "text/plain": [
              "False"
            ]
          },
          "metadata": {},
          "execution_count": 39
        }
      ]
    }
  ]
}