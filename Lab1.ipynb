{
  "nbformat": 4,
  "nbformat_minor": 0,
  "metadata": {
    "colab": {
      "name": "Lab1.ipynb",
      "provenance": [],
      "authorship_tag": "ABX9TyNN7i3Q9hQe4ZMdAr14qBL9",
      "include_colab_link": true
    },
    "kernelspec": {
      "name": "python3",
      "display_name": "Python 3"
    },
    "language_info": {
      "name": "python"
    }
  },
  "cells": [
    {
      "cell_type": "markdown",
      "metadata": {
        "id": "view-in-github",
        "colab_type": "text"
      },
      "source": [
        "<a href=\"https://colab.research.google.com/github/kaethejulian/Kaethe-Julian/blob/main/Lab1.ipynb\" target=\"_parent\"><img src=\"https://colab.research.google.com/assets/colab-badge.svg\" alt=\"Open In Colab\"/></a>"
      ]
    },
    {
      "cell_type": "markdown",
      "metadata": {
        "id": "GmuUhzdmaGjK"
      },
      "source": [
        "#Laboratory 1"
      ]
    },
    {
      "cell_type": "code",
      "metadata": {
        "colab": {
          "base_uri": "https://localhost:8080/"
        },
        "id": "rNsnkbDTTgPz",
        "outputId": "da51c27c-080a-4d67-ae76-d6481c984f59"
      },
      "source": [
        "print('Welcome to Phyton Programming')\n",
        "print()\n"
      ],
      "execution_count": 10,
      "outputs": [
        {
          "output_type": "stream",
          "name": "stdout",
          "text": [
            "Welcome to Phyton Programming\n",
            "\n"
          ]
        }
      ]
    },
    {
      "cell_type": "code",
      "metadata": {
        "colab": {
          "base_uri": "https://localhost:8080/"
        },
        "id": "Ppd2VcR_VeaH",
        "outputId": "042b54b4-8fd1-45a7-f725-1b6de177d535"
      },
      "source": [
        "Name='Ma. Kaethe Joy A. Julian'\n",
        "Address='Blk 15 lot 6 Springtown Southgate 2 Bucal, Tanza, Cavite'\n",
        "Age='18 years old'\n",
        "Info='Hi! I am Ma. Kaethe Joy A. Julian, I am 18 years old and I live at Blk 15 lot 6 Springtown Southgate 2 Bucal, Tanza, Cavite.'\n",
        "\n",
        "print(Name)\n",
        "print(Address)\n",
        "print(Age)\n",
        "print(Info)"
      ],
      "execution_count": 26,
      "outputs": [
        {
          "output_type": "stream",
          "name": "stdout",
          "text": [
            "Ma. Kaethe Joy A. Julian\n",
            "Blk 15 lot 6 Springtown Southgate 2 Bucal, Tanza, Cavite\n",
            "18 years old\n",
            "Hi! I am Ma. Kaethe Joy A. Julian, I am 18 years old and I live at Blk 15 lot 6 Springtown Southgate 2 Bucal, Tanza, Cavite.\n"
          ]
        }
      ]
    }
  ]
}