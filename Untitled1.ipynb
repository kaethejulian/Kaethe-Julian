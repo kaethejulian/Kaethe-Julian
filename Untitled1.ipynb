{
  "nbformat": 4,
  "nbformat_minor": 0,
  "metadata": {
    "colab": {
      "name": "Untitled1.ipynb",
      "provenance": [],
      "authorship_tag": "ABX9TyNtKom+oTB3d+PmZCjkKP5o",
      "include_colab_link": true
    },
    "kernelspec": {
      "name": "python3",
      "display_name": "Python 3"
    },
    "language_info": {
      "name": "python"
    }
  },
  "cells": [
    {
      "cell_type": "markdown",
      "metadata": {
        "id": "view-in-github",
        "colab_type": "text"
      },
      "source": [
        "<a href=\"https://colab.research.google.com/github/kaethejulian/Kaethe-Julian/blob/main/Untitled1.ipynb\" target=\"_parent\"><img src=\"https://colab.research.google.com/assets/colab-badge.svg\" alt=\"Open In Colab\"/></a>"
      ]
    },
    {
      "cell_type": "code",
      "execution_count": 1,
      "metadata": {
        "colab": {
          "base_uri": "https://localhost:8080/"
        },
        "id": "qK9_80t6Oa17",
        "outputId": "987125f1-6b11-4163-b217-97f0bfa702a5"
      },
      "outputs": [
        {
          "output_type": "stream",
          "name": "stdout",
          "text": [
            "Prelims: 95 \n",
            "Midterms: 99 \n",
            "Finals:98\n",
            "None\n",
            "97\n",
            "Prelims: 90 \n",
            "Midterms: 91 \n",
            "Finals:92\n",
            "None\n",
            "91\n",
            "Prelims: 96 \n",
            "Midterms: 97 \n",
            "Finals:95\n",
            "None\n",
            "96\n"
          ]
        }
      ],
      "source": [
        "class Person:\n",
        "  def __init__(self,prelims,midterms,finals):\n",
        "    self.__prelims = prelims\n",
        "    self.__midterms = midterms\n",
        "    self.__finals = finals\n",
        "  def Grade(self):\n",
        "    return (self.__prelims + self.__midterms + self.__finals)//3 \n",
        "  def Average(self):\n",
        "    print(f\"Prelims: {self.__prelims} \\nMidterms: {self.__midterms} \\nFinals:{self.__finals}\")\n",
        "\n",
        "class Student_1(Person):\n",
        "  def __init__(self,prelims,midterms,finals):\n",
        "    super().__init__(prelims,midterms,finals)\n",
        "  \n",
        "class Student_2(Person):\n",
        "  def __init__(self,prelims,midterms,finals):\n",
        "    super().__init__(prelims,midterms,finals)\n",
        "\n",
        "class Student_3(Person):\n",
        "  def __init__(self,prelims,midterms,finals):\n",
        "    super().__init__(prelims,midterms,finals)\n",
        "\n",
        "std1 = Student_1(95,99,98)\n",
        "print (std1.Average())\n",
        "print (std1.Grade())\n",
        "\n",
        "std2 = Student_2(90,91,92)\n",
        "print (std2.Average())\n",
        "print (std2.Grade())\n",
        "\n",
        "std3 = Student_3(96,97,95)\n",
        "print (std3.Average())\n",
        "print (std3.Grade())"
      ]
    }
  ]
}